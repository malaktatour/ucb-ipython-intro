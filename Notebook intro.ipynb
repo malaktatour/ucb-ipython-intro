{
 "cells": [
  {
   "cell_type": "markdown",
   "metadata": {},
   "source": [
    "# Welcome to the IPython Notebook\n",
    "\n",
    "The IPython Notebook is a tool for scientific programming. You create *notebooks*, documents containing your code and the output from running the code, as well as notes. This document is a notebook.\n",
    "\n",
    "The Notebook is very useful for:\n",
    "\n",
    "- *Exploratory coding*: when you don't know in advance exactly what you need to do, you write a little bit of code, run it, go back and tweak it, run it again, and so on.\n",
    "- *Sharing your work*: explain and demonstrate what you're doing, then upload it (e.g. to Github), and send people a link to view it on [nbviewer](http://nbviewer.ipython.org/).\n",
    "- Lessons, demos and talks\n",
    "\n",
    "But it's not the right tool for all programming: as code gets more complicated, we move pieces of it out into modules so that we can reuse it in several files.\n",
    "\n",
    "You should already have the IPython notebook installed. To launch it from the command line, run:\n",
    "\n",
    "    ipython notebook\n",
    "\n",
    "If you don't have it, see the [IPython install page](http://ipython.org/install.html)."
   ]
  },
  {
   "cell_type": "markdown",
   "metadata": {},
   "source": [
    "## Running code\n",
    "\n",
    "Here's some code. To run it, select the *cell* and press Shift-Enter, or click the <img alt=\"play icon\" src=\"play_button.png\" style=\"display:inline; vertical-align:text-bottom;\"> button in the toolbar."
   ]
  },
  {
   "cell_type": "code",
   "execution_count": null,
   "metadata": {
    "collapsed": true
   },
   "outputs": [],
   "source": [
    "counter = 0"
   ]
  },
  {
   "cell_type": "code",
   "execution_count": null,
   "metadata": {
    "collapsed": false
   },
   "outputs": [],
   "source": [
    "counter = counter + 1\n",
    "print \"Counter is\", counter"
   ]
  },
  {
   "cell_type": "markdown",
   "metadata": {},
   "source": [
    "You can go back and re-run a cell again. You can also edit a cell and run the new code."
   ]
  },
  {
   "cell_type": "markdown",
   "metadata": {},
   "source": [
    "## Information about objects and functions\n",
    "\n",
    "There are ways you can quickly check what code you need to write. For instance, to find out what methods a string has:"
   ]
  },
  {
   "cell_type": "code",
   "execution_count": null,
   "metadata": {
    "collapsed": true
   },
   "outputs": [],
   "source": [
    "a = \"Hello, world!\""
   ]
  },
  {
   "cell_type": "code",
   "execution_count": null,
   "metadata": {
    "collapsed": false
   },
   "outputs": [],
   "source": [
    "# Put the cursor after the dot and press tab\n",
    "a.find(\"hi\")"
   ]
  },
  {
   "cell_type": "markdown",
   "metadata": {},
   "source": [
    "You can also get information on specific functions with `?`:"
   ]
  },
  {
   "cell_type": "code",
   "execution_count": null,
   "metadata": {
    "collapsed": false
   },
   "outputs": [],
   "source": [
    "a.find?"
   ]
  },
  {
   "cell_type": "markdown",
   "metadata": {},
   "source": [
    "## Rich Output\n",
    "\n",
    "Code can produce graphs and tables that are shown in the notebook:"
   ]
  },
  {
   "cell_type": "code",
   "execution_count": null,
   "metadata": {
    "collapsed": false
   },
   "outputs": [],
   "source": [
    "import pandas as pd\n",
    "\n",
    "pd.read_csv('python_intermediate/A1_mosquito_data.csv')"
   ]
  },
  {
   "cell_type": "code",
   "execution_count": null,
   "metadata": {
    "collapsed": false
   },
   "outputs": [],
   "source": [
    "%matplotlib inline\n",
    "import numpy as np\n",
    "import matplotlib.pyplot as plt\n",
    "\n",
    "t = np.linspace(0, 10, 1000)\n",
    "y = t\n",
    "for omega in range(1,8):\n",
    "    y = y * np.sin(omega * t)\n",
    "    plt.plot(t, y)"
   ]
  },
  {
   "cell_type": "markdown",
   "metadata": {},
   "source": [
    "## Sharing notebooks\n",
    "\n",
    "You can put your Notebooks online, and share a link to them on Nbviewer. Many people store notebooks on Github.\n",
    "\n",
    "Here's this notebook: http://nbviewer.ipython.org/github/takluyver/ucb-ipython-intro/blob/master/Notebook%20intro.ipynb\n",
    "\n",
    "You can also convert a notebook to HTML or PDF, for instance if it contains private information that you don't want to publish."
   ]
  },
  {
   "cell_type": "markdown",
   "metadata": {},
   "source": [
    "## Get this repository\n",
    "\n",
    "    git clone https://github.com/rachelslaybaugh/ucb-ipython-intro.git\n",
    "    \n",
    "Or go to **tinyurl.com/kd7gaqq**"
   ]
  },
  {
   "cell_type": "markdown",
   "metadata": {},
   "source": [
    "## Poll: \n",
    "\n",
    "Raise your hand if you have\n",
    "\n",
    "* used matlab\n",
    "* used Python\n",
    "* written code in a compiled language\n",
    "* written functions\n",
    "* used classes and/or objects"
   ]
  }
 ],
 "metadata": {
  "kernelspec": {
   "display_name": "Python 2",
   "language": "python",
   "name": "python2"
  },
  "language_info": {
   "codemirror_mode": {
    "name": "ipython",
    "version": 2
   },
   "file_extension": ".py",
   "mimetype": "text/x-python",
   "name": "python",
   "nbconvert_exporter": "python",
   "pygments_lexer": "ipython2",
   "version": "2.7.10"
  }
 },
 "nbformat": 4,
 "nbformat_minor": 0
}
