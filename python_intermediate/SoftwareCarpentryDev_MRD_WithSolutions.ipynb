{
 "cells": [
  {
   "cell_type": "markdown",
   "metadata": {},
   "source": [
    "# How to Quantitatively Analyse an Image (Matthew Dimmock, Monash University)"
   ]
  },
  {
   "cell_type": "markdown",
   "metadata": {},
   "source": [
    "The aim of this IPython Notebook is to introduce you to how real quantitative analysis of an image is performed.  In order to do this, we will complete the following analysis procedure:\n",
    "\n",
    "1.  Load an image.\n",
    "1.  Select an RoI.\n",
    "1.  Histogram the intensities.\n",
    "1.  Fit the histogram.\n",
    "1.  Extract the parameters that define the fit function."
   ]
  },
  {
   "cell_type": "markdown",
   "metadata": {},
   "source": [
    "# Loading and Presenting Image File Data"
   ]
  },
  {
   "cell_type": "markdown",
   "metadata": {},
   "source": [
    "We are going to start by loading a raw image file that is representative of a data set that may have been acquired during an imaging experiment.  To do this, we will use the Scipy (http://www.scipy.org/) library.\n",
    "\n",
    "In general, image data can be stored in either raster or vector graphics formats.  Vector graphics scale with the resolution of the device on which they are viewed, whereas the appearance of raster graphics is resolution dependent and cannot scale arbitrarily.  Vector graphics are typically used for graphical design applications whilst raster graphics are used for photographic images.  \n",
    "\n",
    "In this demonstration we will be concerned with raster graphics which are effectively a dot matrix of data.  As medical images may be optical or non-optical (e.g. X-ray) we will also discuss the coversion between colour and grayscale.  At each point in the matrix of a colour (RGB) raster image a red (R), green (G) and blue (B) value is stored.  \n",
    "\n",
    "The raster image we will load is of Sally Ride (http://en.wikipedia.org/wiki/Sally_Ride) the first US female in space.  We will use this image as our phantom (test data)."
   ]
  },
  {
   "cell_type": "code",
   "execution_count": null,
   "metadata": {
    "collapsed": false
   },
   "outputs": [],
   "source": [
    "# Import required libraries.\n",
    "# Get the Scipy ndimage library.\n",
    "from scipy import ndimage\n",
    "\n",
    "# Specify the path to the image (PNG) file.\n",
    "sallyPath = \"./Sally.png\" \n",
    "\n",
    "# Load the image file into memory.\n",
    "sallyPNG = ndimage.imread(sallyPath)"
   ]
  },
  {
   "cell_type": "markdown",
   "metadata": {},
   "source": [
    "Now we have loaded the two data sets, we can investigate their properties."
   ]
  },
  {
   "cell_type": "code",
   "execution_count": null,
   "metadata": {
    "collapsed": false
   },
   "outputs": [],
   "source": [
    "# Check the shape of the image object\n",
    "print \"The shape of the external file (PNG) structure is %d x %d x %d.\" %(sallyPNG.shape[0], sallyPNG.shape[1], sallyPNG.shape[2])\n",
    "print \"The maximum pixel intensity is %d.\" %(sallyPNG.max())\n",
    "print \"The data type is %s.\" %(sallyPNG.dtype)\n"
   ]
  },
  {
   "cell_type": "markdown",
   "metadata": {},
   "source": [
    "We can see that the PNG file has three values at each location in the 512 x 512 matrix, corresponding to the intensity of R, G and B.  As a side note, an RGB image may have three or four columns.  The fourth column would correspond to an $\\alpha$-value (A) which describes the opacity of the image and is utilised for overlaying multiple images.  We will not worry about $\\alpha$-values in this demonstration.  A PNG would typically be 32-bit (four bytes) per pixel for RGBA, with 8-bit integer precision per channel (R, G, B and A), per pixel.  For grayscale, the PNG might have 8-bit integer precision per pixel with a byte-depth of only one.      \n",
    "\n",
    "Now we will plot the image using the `imshow` function in `Matplotlib`.  As we are plotting data, we must also be concerned with presentation.  Matplotlib does not have a [layout-engine](../../gloss.html#layout-engine) and so certain formatting tasks must be undertaken by the user.  In the following example, the first section of code is present to overwrite the default `rcParams` dictionary with those suitable for the IPython Notebook."
   ]
  },
  {
   "cell_type": "code",
   "execution_count": null,
   "metadata": {
    "collapsed": false
   },
   "outputs": [],
   "source": [
    "# Specify that we want to show the plots in the notebook.\n",
    "%matplotlib inline\n",
    "\n",
    "# Get the Matplotlib plotting libraries.\n",
    "import pylab as plt\n",
    "\n",
    "# Plot the PNG in the jet colourmap.\n",
    "plt.figure()\n",
    "plt.imshow(sallyPNG, interpolation = 'nearest', origin='upper', cmap=\"jet\")\n",
    "plt.xlabel(\"Pixel number\")\n",
    "plt.ylabel(\"Pixel number\")\n",
    "plt.clim([0,255])\n",
    "plt.colorbar()\n",
    "\n",
    "plt.show()"
   ]
  },
  {
   "cell_type": "markdown",
   "metadata": {},
   "source": [
    "In the plot above all three colour components (R, G and B) are shown as is typical for a standard display.  We have specified the \"jet\" colour map explicitly in this example, although \"jet\" is the defaults colour map in Matplotlib.  \n",
    "\n",
    "The image we have imported has three color channels; we can combine these into a single grayscale channel so that we have a monochrome image to work with.  The data that we would acquire from most typical experiments is expressed in terms of intensities (grayscale), not RGB triplets. \n",
    "\n",
    "As a side note, it is useful to understand that grayscale images can be stored as integer (e.g. 8-bit PNG) or floating point (e.g. 32-bit TIFF - complicated container not discussed here).  Scipy and Matplotlib both call the Python Image Library (PIL) for image reading and writing.  The PIL can only read up to 16-bit TIFFs.         "
   ]
  },
  {
   "cell_type": "code",
   "execution_count": null,
   "metadata": {
    "collapsed": false
   },
   "outputs": [],
   "source": [
    "# A more elegant way to separate the image into its RGB components is to use the transpose of the array of input data.\n",
    "redSallyT, greenSallyT, blueSallyT =  ndimage.imread(sallyPath).T\n",
    "\n",
    "# Now apply step to of the conversion from sRGB to linear grayscale.\n",
    "graySally = (0.299 * redSallyT) + (0.587 * greenSallyT) + (0.114 * blueSallyT)\n",
    "\n",
    "# We have to apply a second transpose as the initial transpose swapped the X and Y axes as well as the Z axis.\n",
    "graySally = graySally.T.astype(\"uint8\")\n"
   ]
  },
  {
   "cell_type": "code",
   "execution_count": null,
   "metadata": {
    "collapsed": false
   },
   "outputs": [],
   "source": [
    "# Plot the PNG in the jet colourmap.\n",
    "# Can't keep the same figure size for multi-sub-plot so need to specify something sensible.\n",
    "plt.figure(figsize = (12.0, 4.0))    \n",
    "plt.subplot(1,2,1)\n",
    "plt.imshow(sallyPNG, interpolation = 'nearest', origin='upper', cmap=\"jet\")\n",
    "plt.xlabel(\"Pixel number\")\n",
    "plt.ylabel(\"Pixel number\")\n",
    "plt.clim([0,255])\n",
    "plt.colorbar()\n",
    "\n",
    "# Plot the grayscale image in grayscale.\n",
    "plt.subplot(1,2,2)\n",
    "plt.imshow(graySally, interpolation = 'nearest', origin='upper', cmap=\"gray\")\n",
    "plt.xlabel(\"Pixel number\")\n",
    "plt.ylabel(\"Pixel number\")\n",
    "plt.clim([0,255])\n",
    "plt.colorbar()\n",
    "\n",
    "plt.show()"
   ]
  },
  {
   "cell_type": "markdown",
   "metadata": {},
   "source": [
    "### Challenges\n",
    "\n",
    "We have However, we have only populated one of the 3 `subplots`.  What we really need is a function that incorporates the syntax we have just used but that populates the 3 `subplots` using a `for` loop.\n",
    "\n",
    "1.  Write a function called `plotNby1Subplot` that takes a list of `N` tuples of images with their corresponding colour-maps and plots them in a `1xN` row of subplots.  Demonstrate that it correctly plots the tuples:\n",
    "\n",
    "    ```\n",
    "    (sallyPNG, \"jet\"),\n",
    "    (graySally, \"jet\"),\n",
    "    (graySally, \"gray\").\n",
    "    ```\n",
    "\n",
    "1.  Use the same `plotNby1Subplot` function and the correct colour-maps to display the R, G and B components of `sallyPNG`."
   ]
  },
  {
   "cell_type": "code",
   "execution_count": null,
   "metadata": {
    "collapsed": false
   },
   "outputs": [],
   "source": [
    "# SOLUTION TO CHALLENGE 1\n",
    "def plotNby1Subplot(icts, figSize = (12.0, 4.0)):\n",
    "\n",
    "    # Get handles for the figure and the subplots.\n",
    "    fig = plt.figure(figsize = figSize)\n",
    "    \n",
    "    for index, ict in enumerate(icts):\n",
    "  \n",
    "        # Plot the image.\n",
    "        plt.subplot(1, len(icts), index + 1)\n",
    "        im2Plot = icts[index][0]\n",
    "        plt.imshow(im2Plot, interpolation = 'nearest', origin = 'upper', cmap = icts[index][1])\n",
    "        plt.xlabel(\"Pixel number\")\n",
    "        plt.ylabel(\"Pixel number\")\n",
    "        plt.clim([0,255])\n",
    "        plt.colorbar()\n",
    "        \n",
    "    \n",
    "# Define the tuple data.\n",
    "imageColbarTupList = [(sallyPNG, \"jet\"),\n",
    "                      (graySally, \"jet\"),\n",
    "                      (graySally, \"gray\")]\n",
    "\n",
    "# Plot the images\n",
    "plotNby1Subplot(imageColbarTupList, figSize = (14.0, 3.0))\n",
    "\n",
    "plt.show()"
   ]
  },
  {
   "cell_type": "code",
   "execution_count": null,
   "metadata": {
    "collapsed": false
   },
   "outputs": [],
   "source": [
    "# SOLUTION TO CHALLENGE 2\n",
    "\n",
    "# We can access the R component of the array.\n",
    "redSally = sallyPNG[:,:,0]\n",
    "\n",
    "# We can also access the G and B components:\n",
    "greenSally = sallyPNG[:,:,1]\n",
    "blueSally = sallyPNG[:,:,2]\n",
    "\n",
    "imageColbarTupList = [(redSally, \"Reds\"),\n",
    "                      (greenSally, \"Greens\"),\n",
    "                      (blueSally, \"Blues\")]\n",
    "\n",
    "# Plot the images\n",
    "plotNby1Subplot(imageColbarTupList, figSize = (14.0, 3.0))\n",
    "\n",
    "plt.show()"
   ]
  },
  {
   "cell_type": "markdown",
   "metadata": {},
   "source": [
    "# Image Data Manipulation"
   ]
  },
  {
   "cell_type": "markdown",
   "metadata": {},
   "source": [
    "Up to now all that we have done is load an image file and present the data to explain how it is stored in different image files.  RGB data is not usually the most useful format for quantitative analysis in medical imaging.  What we need are the grayscale intensities, so that we have a single number at each point in the 512 x 512 matrix.  \n",
    "\n",
    "The rigorous way to convert RGB to grayscale follows a multi-step process (http://en.wikipedia.org/wiki/SRGB):\n",
    "\n",
    "1.  Map the PNG sRGB values onto the linear sRGB scale using the reverse gamma transformation.\n",
    "1.  Convert the linear sRGB values to linear grayscale values.\n",
    "1.  Apply the forward sRGB gamma transformation.\n",
    "\n",
    "We are not going to worry about the gamma correction and will just apply Step 2 which is a good enough approximation."
   ]
  },
  {
   "cell_type": "code",
   "execution_count": null,
   "metadata": {
    "collapsed": false
   },
   "outputs": [],
   "source": [
    "def plotSingleFigImshow(im2Plot):\n",
    "    # Plot grayscale image.\n",
    "    plt.imshow(im2Plot, interpolation = 'nearest', origin='upper', cmap='gray')\n",
    "    plt.xlabel(\"Pixel numer\")\n",
    "    plt.ylabel(\"Pixel numer\")\n",
    "    plt.clim([0,255])  \n",
    "    plt.colorbar()\n",
    "    \n",
    "# Plot the image.\n",
    "plotSingleFigImshow(graySally)\n",
    "\n",
    "plt.show()"
   ]
  },
  {
   "cell_type": "markdown",
   "metadata": {},
   "source": [
    "Now we have the grayscale (intensity) distribution of the image we are ready to analyse the data.  \n",
    "\n",
    "In image processing, we often wish to apply a point operation to the data set.  In this example we will set a window with a level of 50 and a width of 60 ($\\pm$30).  All pixels that lie outside of the window (20 < I < 80) will be set to zero.  We could do this with [nested-loops](../../gloss.html#nested-loops), however, this is cumbersome and messy.  A neater way is to use a [boolean](../../gloss.html#boolean) [mask](../../gloss.html#mask):"
   ]
  },
  {
   "cell_type": "code",
   "execution_count": null,
   "metadata": {
    "collapsed": false
   },
   "outputs": [],
   "source": [
    "# Generate a mask by simple thresholding.\n",
    "boolMask = (graySally > 80) | (graySally < 20)\n",
    "\n",
    "# In the mask, all pixels with intensity >200 OR <100 will be set to True.\n",
    "# Now set these pixels to zero.\n",
    "graySally[boolMask] = 0\n",
    "\n",
    "# Plot the image.\n",
    "plotSingleFigImshow(graySally)\n",
    "\n",
    "plt.show()"
   ]
  },
  {
   "cell_type": "markdown",
   "metadata": {},
   "source": [
    "We can see that all regions of the data that lie outside the window now appear black in the image.\n",
    "\n",
    "If we now decide that we want to apply a different threshold we will run into a problem.  We will demonstrate this by applying a window with a level of 120 and a width of 40 ($\\pm$20). "
   ]
  },
  {
   "cell_type": "code",
   "execution_count": null,
   "metadata": {
    "collapsed": false
   },
   "outputs": [],
   "source": [
    "# Generate a mask by simple thresholding.\n",
    "boolMask = (graySally > 140) | (graySally < 100)\n",
    "\n",
    "# In the mask, all pixels with intensity >200 OR <100 will be set to True.\n",
    "# Now set these pixels to zero.\n",
    "graySally[boolMask] = 0\n",
    "\n",
    "# Plot the image.\n",
    "plotSingleFigImshow(graySally)\n",
    "\n",
    "plt.show()"
   ]
  },
  {
   "cell_type": "markdown",
   "metadata": {},
   "source": [
    "We can see that the image is black.  That is because we are applying a second threshold to the same  [instance](../../gloss.html#instance) of the data that we applied the initial window to.  Whenever we want to manipulate data we should first make a copy so that we maintain the integrity of the initial instance.  We can do this by using the `copy` function in the `copy` library:"
   ]
  },
  {
   "cell_type": "code",
   "execution_count": null,
   "metadata": {
    "collapsed": false
   },
   "outputs": [],
   "source": [
    "# Import the copy library.\n",
    "import copy as cp\n",
    "\n",
    "# We need to go back and regenerate graySally.\n",
    "graySally = (0.299 * redSally) + (0.587 * greenSally) + (0.114 * blueSally)\n",
    "\n",
    "# And get it back in the right data type\n",
    "graySally = graySally.astype(\"uint8\")\n",
    "\n",
    "# We must make a copy of the original image otherwise we will not be able to compare to the original.\n",
    "copy1Sally = graySally.copy()\n",
    "copy2Sally = graySally.copy()\n",
    "\n",
    "# Generate a mask by simple thresholding.\n",
    "boolMask = (graySally > 80) | (graySally < 20)\n",
    "\n",
    "# In the mask, all pixels with intensity >80 OR <20 will be set to True.\n",
    "# Now set these pixels to zero.\n",
    "copy1Sally[boolMask] = 0\n",
    "\n",
    "# Generate a mask by simple thresholding.\n",
    "boolMask = (graySally > 140) | (graySally < 100)\n",
    "\n",
    "# In the mask, all pixels with intensity >140 OR <100 will be set to True.\n",
    "# Now set these pixels to zero.\n",
    "copy2Sally[boolMask] = 0\n",
    "\n",
    "# Plot the images\n",
    "# If you managed to write the function in the challenge, use this to plot the figures.  Otherwise, revert to the non-ideal method.\n",
    "try:\n",
    "\n",
    "    # Define the tuple data.\n",
    "    imageColbarTupList = [(copy1Sally, \"gray\"),\n",
    "                          (copy2Sally, \"gray\")]\n",
    "\n",
    "    plotNby1Subplot(imageColbarTupList)\n",
    "\n",
    "except:\n",
    "    print \"Plotting function does not exist.  Using non-ideal method\"\n",
    "    \n",
    "    plt.figure(figsize = (4.0, 2.0)) \n",
    "    \n",
    "    # Plot the grayscale image copy1Sally.   \n",
    "    plt.subplot(1,3,1)\n",
    "    plt.imshow(sallyPNG, interpolation = 'nearest', origin='upper', cmap=\"jet\")\n",
    "    plt.xlabel(\"Pixel number\")\n",
    "    plt.ylabel(\"Pixel number\")\n",
    "    plt.clim([0,255])\n",
    "    plt.colorbar()\n",
    "\n",
    "    # Plot the grayscale image copy2Sally.\n",
    "    plt.subplot(1,3,2)\n",
    "    plt.imshow(graySally, interpolation = 'nearest', origin='upper', cmap=\"jet\")\n",
    "    plt.xlabel(\"Pixel number\")\n",
    "    plt.ylabel(\"Pixel number\")\n",
    "    plt.clim([0,255])\n",
    "    plt.colorbar()\n",
    "\n",
    "plt.show()\n"
   ]
  },
  {
   "cell_type": "markdown",
   "metadata": {},
   "source": [
    "We will move on show how to select a region of interest (RoI).  The first step is to obtain a [handle](../../gloss.html#handle) for the subset of the data that lies within the RoI so that we can then apply a more detailed analysis.\n",
    "\n",
    "The image data we have used thus far is an [array](../../gloss.html#array) with dimensions 512 x 512.  When working through the stages of an analysis routine, such as the application of an RoI, it is often usefule to start with a much smaller dummy data set; when small arrays are used the contents of the array can be printed to screen for debugging.  We will start with an array that is 5 x 3 and gradually build a [function](../../gloss.html#function) that can then be used on the actual data set.  \n",
    "\n"
   ]
  },
  {
   "cell_type": "code",
   "execution_count": null,
   "metadata": {
    "collapsed": false
   },
   "outputs": [],
   "source": [
    "# Load the Path library.\n",
    "from matplotlib.path import Path\n",
    "\n",
    "# Define the vertices of the polygon that will outline the RoI.\n",
    "squarePath = Path([[0,0], [0,2], [2,2], [2,0]])\n",
    "\n",
    "# Create a list of positions to test.\n",
    "xyPosList = [[0,1], [1, 2], [2, 2], [2, 3]]\n",
    "\n",
    "# Get a boolean list of the array positions that lie inside the RoI.\n",
    "bools = squarePath.contains_points(xyPosList)\n",
    "\n",
    "for i, xy in enumerate(xyPosList):\n",
    "    if bools[i] == True:\n",
    "        print \"Position %d,%d is inside RoI\" %(xy[0], xy[1])\n",
    "    else:\n",
    "        print \"Position %d,%d is outside RoI\" %(xy[0], xy[1])\n"
   ]
  },
  {
   "cell_type": "markdown",
   "metadata": {},
   "source": [
    "From the example above we can see that we have specified a [list](../../gloss.html#list) of coordinates that we want to test.  This is clearly not practical for a larger [array](../../gloss.html#array) such as our image.  We could construct a list using [nested-loops](../../gloss.html#nested-loops), however, this does not demonstrate any new functionality to you.  Instead, we are going to demonstrate how to `reshape` an [array](../../gloss.html#array) and `zip` components together.  "
   ]
  },
  {
   "cell_type": "code",
   "execution_count": null,
   "metadata": {
    "collapsed": false
   },
   "outputs": [],
   "source": [
    "import numpy as np\n",
    "\n",
    "# Define a meshgrid.\n",
    "dim1 = 2\n",
    "dim2 = 3\n",
    "grid = np.mgrid[0:dim1:1, 0:dim2:1]\n",
    "    \n",
    "# Perform a reduction of the x-meshgrid into a 1D array.\n",
    "xs = grid[0].reshape(dim1 * dim2)\n",
    "    \n",
    "# Perform a reduction of the y-meshgrid into a 1D array.\n",
    "ys = grid[1].reshape(dim1 * dim2)\n",
    "\n",
    "# Zip the two 1D arrays into a list of x and y position coordinates.\n",
    "xyPosArray = np.asarray(zip(xs, ys))\n",
    "\n",
    "print xyPosArray"
   ]
  },
  {
   "cell_type": "markdown",
   "metadata": {},
   "source": [
    "### Challenges\n",
    "\n",
    "We have introduced clean and efficient ways of specifying an RoI and defining a `meshgrid` of coordinates to test whether or not lie within the RoI \n",
    "\n",
    "1.  Write a function called `getRoIIndices` that tests all of the pixels in a dummy $5 \\times 4$ array as to whether or not they lie within an RoI.  If the pixel locations are outside the RoI, the values in the array at these locations should be set to zero.  The vertices of the RoI you should define are:\n",
    "    ```\n",
    "    [-1,-1], \n",
    "    [-1,2], \n",
    "    [2,2], \n",
    "    [2,-1].\n",
    "    ```\n",
    "    \n",
    "1.  Plot the result of your RoI selection using the `plotSingleFigImshow` function.\n"
   ]
  },
  {
   "cell_type": "markdown",
   "metadata": {},
   "source": [
    "In completing the challenge, there is a simple method for enabling those pixels outside the RoI to be set to zero.  This strategy is to invert the [True](../../gloss.html#True) and [False](../../gloss.html#False) [elements](../../gloss.html#elements) in the `bools` [variable](../../gloss.html#variable) using `bools = ~bools` and then apply the [boolean](../../gloss.html#boolean) [mask](../../gloss.html#mask): to the original [array](../../gloss.html#array)."
   ]
  },
  {
   "cell_type": "code",
   "execution_count": null,
   "metadata": {
    "collapsed": false
   },
   "outputs": [],
   "source": [
    "# SOLUTION TO CHALLENGES 1 AND 2\n",
    "\n",
    "# Load the Numpy library.\n",
    "import numpy as np\n",
    "\n",
    "# Load the Path library.\n",
    "from matplotlib.path import Path\n",
    "\n",
    "# Define the function for applying an RoI to a Numpy array.\n",
    "def getRoIIndices(dataArray, polyPath):\n",
    "    \n",
    "    # Make a copy of the array.\n",
    "    modDataArray = dataArray.copy()\n",
    "\n",
    "    # Check that the input data is a Numpy array.\n",
    "    assert type(dataArray) == np.ndarray\n",
    "    \n",
    "    # Specify the start index of the array in the x-direction.\n",
    "    xStart = 0\n",
    "    \n",
    "    # Specify the start index of the array in the y-direction.\n",
    "    yStart = 0\n",
    "    \n",
    "    # Specify the end index of the array in the x-direction.\n",
    "    xStop = dataArray.shape[0]\n",
    "    \n",
    "    # Specify the end index of the array in the y-direction.\n",
    "    yStop = dataArray.shape[1]\n",
    "    \n",
    "    # Specify the index step length.\n",
    "    step = 1\n",
    "\n",
    "    # Define a meshgrid that indexes all of the pixels in the 512 x 512 image.\n",
    "    grid = np.mgrid[xStart:xStop:step, yStart:yStop:step]\n",
    "    \n",
    "    # Perform a reduction of the x-meshgrid into a 1D array.\n",
    "    xs = grid[0].reshape(xStop * yStop)\n",
    "    \n",
    "    # Perform a reduction of the y-meshgrid into a 1D array.\n",
    "    ys = grid[1].reshape(xStop * yStop)\n",
    "    \n",
    "    # Zip the two 1D arrays into a list of x and y position coordinates.\n",
    "    xyPosArray = np.asarray(zip(xs, ys))\n",
    "\n",
    "    # Get a boolean list of the array positions that lie inside the RoI.\n",
    "    bools = polyPath.contains_points(xyPosArray)\n",
    "    \n",
    "    # Get the indices of the points inside the RoI.\n",
    "    xyPosInRoI = xyPosArray[bools] \n",
    "    \n",
    "    \n",
    "    # Reshape the bools array so that is matches back to the dimensions of the input image.\n",
    "    print \"The shape of the bools array is \", np.shape(bools), \"...\"\n",
    "    print \"The shape of the data array is \", np.shape(modDataArray), \"...\"\n",
    "    rows = dataArray.shape[0]\n",
    "    cols = dataArray.shape[1]\n",
    "    bools = bools.reshape(rows, cols)\n",
    "    print \"The shape of the bools array is \", bools.shape, \"...\"\n",
    "    \n",
    "    # Get the data in the RoI.\n",
    "    dataInRoI = modDataArray[bools]\n",
    "    \n",
    "    # Swap the Tures and Falses around.\n",
    "    bools = ~bools\n",
    "    \n",
    "    # Set the pixels outshide of the RoI to zero.\n",
    "    modDataArray[bools] = 0\n",
    "    \n",
    "    return xyPosInRoI, modDataArray, dataInRoI \n",
    "\n",
    "# Define the test data array.\n",
    "testArray = np.ones([5,4]) * 255\n",
    "\n",
    "# Define the vertices of the polygon that will outline the RoI.\n",
    "#squarePath = Path([[-1,-1], [-1,2], [2,2], [2,-1]])\n",
    "squarePath = Path([[-0.1, -0.1], [-0.1, 2.1], [2.1, 2.1], [2.1, -0.1]])\n",
    "    \n",
    "# Get the indices of the points inside the RoI.\n",
    "xyPosInRoI, modArray, dataInRoI = getRoIIndices(testArray, squarePath)\n",
    "\n",
    "# Plot the image with threshold 20 < I < 80.\n",
    "plotSingleFigImshow(modArray)\n",
    "\n",
    "\n",
    "\n",
    "print \"The indices of the pixels that lie within the RoI are:\\n\",\n",
    "for i in xyPosInRoI:\n",
    "    print i\n",
    "print \"...\" \n",
    "\n",
    "plt.show()\n"
   ]
  },
  {
   "cell_type": "markdown",
   "metadata": {},
   "source": [
    "Now we are ready to run the RoI selection function on the image that we want to process.  We will aim to primarily select the pixels that contain the background at the top of the image (chosen arbitrarily) as these should give us a distribution of intensities that are correlated in some way that we can then fit."
   ]
  },
  {
   "cell_type": "code",
   "execution_count": null,
   "metadata": {
    "collapsed": false
   },
   "outputs": [],
   "source": [
    "# Define the vertices of the polygon that will outlint the RoI.\n",
    "squarePath = Path([[5, 400], [5, 450], [100, 450], [100, 400]])\n",
    "\n",
    "# If you managed to write the function in the challenge, it will be used.  Otherwise, use a random number generator to make some data. \n",
    "try:\n",
    "    \n",
    "    # Get the indices of the points inside the RoI.\n",
    "    xyPosInRoI, maskSally, intensitiesInRoI = getRoIIndices(graySally, squarePath)\n",
    "\n",
    "    # Plot the image mask.\n",
    "    plotSingleFigImshow(maskSally)\n",
    "\n",
    "except:\n",
    "    import random as rn\n",
    "    mu = 103.0\n",
    "    sigma = 4.3\n",
    "    intensitiesInRoI = [rn.gauss(mu, sigma) for i in np.arange(2000)]\n",
    "    \n",
    "print \"There are %i intensities in the list ...\\n\" %(len(intensitiesInRoI))\n",
    "\n",
    "plt.show()"
   ]
  },
  {
   "cell_type": "markdown",
   "metadata": {},
   "source": [
    "# Fitting the Data"
   ]
  },
  {
   "cell_type": "markdown",
   "metadata": {},
   "source": [
    "We can now proceed to analyse the data.  The first step is to interrogate the intensity distribution in order to determine how to proceed.  We will start by simply histogramming the data to gain an understanding of the behaviour of the distribution."
   ]
  },
  {
   "cell_type": "code",
   "execution_count": null,
   "metadata": {
    "collapsed": false
   },
   "outputs": [],
   "source": [
    "# Histogram the intensity distribution.\n",
    "histo = np.histogram(intensitiesInRoI, bins = np.arange(60) + 100)\n",
    "print \"The shape of the histogram is \", np.shape(histo), \"...\\n\"\n",
    "print \"The dims of the histogram are \", np.shape(histo[0]), np.shape(histo[1]), \"...\\n\"\n",
    "\n",
    "# Plot the Histogram.\n",
    "plt.figure( figsize=(5.0, 3.0))\n",
    "plt.step(histo[1][:-1], histo[0][:])\n",
    "plt.xlabel(\"Pixel grayscale intensity\")\n",
    "plt.ylabel(\"Number of pixels\")    \n",
    "plt.show()"
   ]
  },
  {
   "cell_type": "markdown",
   "metadata": {},
   "source": [
    "We can see from the shape of the [histogram](../../gloss.html#histogram) that to first order it is a Gaussian.  In order to quantify the distribution, we need to be able to fit the [histogram](../../gloss.html#histogram) with a Gaussian function.  We perform the fir by defining the function and then minimising its free parameters with respect to the [histogram](../../gloss.html#histogram).\n",
    "\n",
    "Before we perform the fit, we will just revisit some of the basic principles of how to define [functions](../../gloss.html#functions).\n",
    "\n",
    "Pyhton offers two different means for defining a function.  The first is the standard function that we have already encountered several times.  The standard function definition is initiated with the \"def\" command.  \n",
    "\n",
    "Below is an example for a standard function that takes a number as an input, squares it and returns the answer."
   ]
  },
  {
   "cell_type": "code",
   "execution_count": null,
   "metadata": {
    "collapsed": false
   },
   "outputs": [],
   "source": [
    "# Define a normal function that takes an input and returns the squared value.\n",
    "def squared(x):\n",
    "    return x**2\n",
    "\n",
    "# Choose a value to square.\n",
    "x = 5\n",
    "\n",
    "print \"The value of %.01f * %.01f is %.01f ...\\n\" %(x, x, squared(x))"
   ]
  },
  {
   "cell_type": "markdown",
   "metadata": {},
   "source": [
    "The second technique that Python offers is to use a lambda function, also referred to as an anonymous function.  This form of mini-function only allows the user to evaluate a single expression; however, it has the added advantage of being compact and easily passed as an argument into other functions.  \n",
    "\n",
    "The expression for a lambda function that squares a number is shown below. "
   ]
  },
  {
   "cell_type": "code",
   "execution_count": null,
   "metadata": {
    "collapsed": false
   },
   "outputs": [],
   "source": [
    "# Define a lambda function that takes an input and returns the squared value.\n",
    "squared = lambda x : x**2\n",
    "print \"The value of %.01f * %.01f is %.01f ...\\n\" %(x, x, squared(x))"
   ]
  },
  {
   "cell_type": "markdown",
   "metadata": {},
   "source": [
    "### Challenges\n",
    "\n",
    "We can see that the `lambda` function is more compact and does not require a return statement.\n",
    "\n",
    "Now we will return to our original goal of trying to fit the histogrammed data.  As was previously stated, the intensity distribution from the pixels selected in the RoI is approximately Gaussian (normal).  A Gaussian distribution is a peaked function with exponential tails that can be described according to its width ($\\sigma$) and centroid ($\\mu$). \n",
    "\n",
    "In order to fit a Gaussian to the data we must start by defining a Gaussian [function](../../gloss.html#function), using the `lambda` [function](../../gloss.html#function) convention. \n",
    "\n",
    "1.  Write a `lambda` [function](../../gloss.html#function) function called `gaus1D` that generates a Gaussian with specified mean and standard deviation.\n",
    "\n",
    "1.  Plot the function on a suitable graph."
   ]
  },
  {
   "cell_type": "code",
   "execution_count": null,
   "metadata": {
    "collapsed": false
   },
   "outputs": [],
   "source": [
    "# SOLUTION TO CHALLENGE 1\n",
    "\n",
    "# Define a function that returns a Gaussian.\n",
    "gaus1D = lambda x, mu, sigma: (1.0 / (sigma * np.sqrt(2.0 * np.pi)))* np.exp(-(((x - mu)**2 / (2.0 * sigma**2))))\n",
    "\n",
    "# Specify the initialization parameters for the Gaussian.\n",
    "mean = 110.0\n",
    "stDev = 4.5\n",
    "xRange = np.linspace(mean - 15.0, mean + 15.0, 100)\n",
    "\n",
    "# Determine the Gaussian.\n",
    "gaus = gaus1D(xRange, mean, stDev)\n",
    "\n",
    "# Plot the Gaussian.\n",
    "plt.step(xRange, gaus)\n",
    "plt.xlabel(\"x\")\n",
    "plt.ylabel(\"Height\")    \n",
    "plt.show()\n"
   ]
  },
  {
   "cell_type": "markdown",
   "metadata": {},
   "source": [
    "From your plot you can see that the Gaussian is centred at the mean ($\\mu$) and has a width proportional to the standard deviation ($\\sigma$).\n",
    "\n",
    "In order to be able to fit the [histogram](../../gloss.html#histogram) with a Gaussian of this form, we need to be able to extract initial estimates of $\\mu$ and $\\sigma$ so that sensible bounds for the optimization (fit) can be obtained.  \n",
    "\n",
    "The centroid of the Gaussian is the position along the x-axis that corresponds to the maximum height of the peak; this is straightforward to determine.  In performing this task we will utilise the transformation of the data between [array](../../gloss.html#array) and [list](../../gloss.html#list) to exploit the different available [methods](../../gloss.html#methods) in each [class](../../gloss.html#class) that we require."
   ]
  },
  {
   "cell_type": "code",
   "execution_count": null,
   "metadata": {
    "collapsed": false
   },
   "outputs": [],
   "source": [
    "# Assume that the data is a Gaussian.\n",
    "gaus = histo[0][:]\n",
    "xRange = histo[1][:-1]\n",
    "\n",
    "# Get the height of the Gaussian.\n",
    "gausMaxVal = np.max(gaus)\n",
    "    \n",
    "# Get the index of the bin of the centroid.\n",
    "gausMaxIdx = list(gaus).index(gausMaxVal)\n",
    "    \n",
    "# Get the x value at this index.\n",
    "gausMaxLoc = xRange[gausMaxIdx]\n",
    "    \n",
    "print \"The maximum height of the Gaussian is %.01f at location x = %.01f ...\\n\" %(gausMaxVal, gausMaxLoc)  "
   ]
  },
  {
   "cell_type": "markdown",
   "metadata": {},
   "source": [
    "### Challenges\n",
    "\n",
    "The standard deviation is related to the full width at half maximum height (FWHM) of a Gaussian distribution by,\n",
    "\n",
    "$FWHM = 2.35 \\sigma$.\n",
    "\n",
    "1.  Write a [function](../../gloss.html#function) called `calcGausParams` that measures the centroid and FWHM of the Gaussian you have generated.\n",
    "\n",
    "2.  Compare the measured values with the mean and standard deviation that you specified to generate the Gaussian in the first place. "
   ]
  },
  {
   "cell_type": "code",
   "execution_count": null,
   "metadata": {
    "collapsed": false
   },
   "outputs": [],
   "source": [
    "# SOLUTION TO CHALLENGES 1 AND 2\n",
    "\n",
    "import numpy as np\n",
    "\n",
    "# Define a function that calculates the mean and standard deviation of a Gaussian.\n",
    "def calcGausParams(xRange, gaus):\n",
    "    \n",
    "    # Get the height of the Gaussian.\n",
    "    gausMaxVal = np.max(gaus)\n",
    "    \n",
    "    # Get the index of the bin of the centroid.\n",
    "    gausMaxIdx = list(gaus).index(gausMaxVal)\n",
    "    \n",
    "    # Get the x value at this index.\n",
    "    gausMaxLoc = xRange[gausMaxIdx]\n",
    "    \n",
    "    print \"The maximum height of the Gaussian is %.01f at location x = %.01f ...\\n\" %(gausMaxVal, gausMaxLoc)  \n",
    "    \n",
    "    # Get the width at 1/2 of the height.\n",
    "    gausHalfMaxVal = 0.5 * gausMaxVal\n",
    "    \n",
    "    # Get a boolean list of all of the bins of the Gaussian that are >= to half the maximum height.\n",
    "    bools = gaus >= gausHalfMaxVal\n",
    "    \n",
    "    # Now get the index of the first True in the boolean list.\n",
    "    gausHalfMaxIdx = list(bools).index(True)\n",
    "    \n",
    "    # Get the x value at this index.\n",
    "    gausHalfMaxLoc = xRange[gausHalfMaxIdx]\n",
    "    \n",
    "    # From this, calculate the FWHM.\n",
    "    # Use twice the absolute value of half the width to account for a peak at a -ve x location.\n",
    "    gausFWHM = 2.0 * abs(gausMaxLoc - gausHalfMaxLoc)\n",
    "    \n",
    "    print \"The FWHM of the Gaussian is %.01f ...\\n\" %(gausFWHM)  \n",
    "    \n",
    "    # Now calculate the standard deviation.\n",
    "    stDev = gausFWHM / 2.35\n",
    "    \n",
    "    return gausMaxLoc, stDev, gausMaxVal\n",
    "    \n",
    "# Get the parameters that describe the Gaussian. \n",
    "meanCalc, stDevCalc, heightCalc = calcGausParams(xRange, gaus)\n",
    "\n",
    "print \"The calculated mean and standard deviation are %.01f and %.01f ...\\n\" %(meanCalc, stDevCalc)\n"
   ]
  },
  {
   "cell_type": "markdown",
   "metadata": {},
   "source": [
    "We can see that the determined magnitude of $\\mu$ is correct, however, the calculated value for $\\sigma$ differs by 0.2 from that specified when we set up the problem (2.0 - 1.8 = 0.2).  In your own time, as an exercise, calculate the number of bins required in the xRange parameter for the uncertainty to reduce to zero.\n",
    "\n",
    "Now we have a function that can be used to estimate the bounds for our optimization.  We will apply limits of $\\pm 50\\%$ to $\\mu$ and $\\sigma$."
   ]
  },
  {
   "cell_type": "code",
   "execution_count": null,
   "metadata": {
    "collapsed": false
   },
   "outputs": [],
   "source": [
    "from scipy import optimize as so\n",
    "\n",
    "# Define a function that performs a least squares minimisation of a Gaussian function against an input histogram distribution.\n",
    "def fitGaussian(xRange, gaus):\n",
    "    \n",
    "    # Define the lamda function that is the basis of the fit.\n",
    "    fitGaus = lambda p, x: p[2] * np.exp(-(((x - p[1])**2 / (2.0 * p[0]**2))))\n",
    "\n",
    "    # Define the error function to be minimized.\n",
    "    fitError = lambda p, x, y: np.linalg.norm(fitGaus(p, x) - y)\n",
    " \n",
    "    # Get estimates of the mean and standard deviation of the distribution to fit the Gaussian to. \n",
    "    try:\n",
    "        # You managed to solve the previous challenge.\n",
    "        meanCalc, stDevCalc, heightCalc = calcGausParams(xRange, gaus)\n",
    "    except:\n",
    "        # You didn't solve the challenge.\n",
    "        meanCalc = gausMaxLoc\n",
    "        stDevCalc = sigma\n",
    "        heightCalc = gausMaxVal\n",
    "    \n",
    "    # Estimate reasonable bounds for the minimisation.\n",
    "    frac = 0.5\n",
    "    minMeanCalc = meanCalc - abs(frac * meanCalc)\n",
    "    maxMeanCalc = meanCalc + abs(frac * meanCalc)\n",
    "    minStDevCalc = stDevCalc - abs(frac * stDevCalc)\n",
    "    maxStDevCalc = stDevCalc + abs(frac * stDevCalc)\n",
    "    minHeightCalc = heightCalc - abs(frac * heightCalc)\n",
    "    maxHeightCalc = heightCalc + abs(frac * heightCalc)    \n",
    "\n",
    "    # Append the initial guesses to the list.\n",
    "    p0 = np.r_[stDevCalc,\n",
    "               meanCalc,\n",
    "               heightCalc]\n",
    "\n",
    "    # Append the bounds to the list.\n",
    "    bounds = [(minStDevCalc, maxStDevCalc),\n",
    "              (minMeanCalc, maxMeanCalc),\n",
    "              (minHeightCalc, maxHeightCalc)]\n",
    "     \n",
    "    p, _, _ = so.fmin_tnc(fitError, p0[:], \n",
    "                          args = (xRange, gaus),\n",
    "                          approx_grad = True, \n",
    "                          bounds = bounds)\n",
    "    \n",
    "    return fitGaus(p, xRange), p[0], p[1], p[2]\n",
    "\n",
    "# Pass the histogram range and distribution into the minimisation function.\n",
    "xRange = histo[1][:-1]\n",
    "gaus = histo[0][:]\n",
    "fit, stDev, mean, height = fitGaussian(xRange, gaus)\n",
    "\n",
    "print \"The maximum height of the Gaussian (fit) is %.01f at location x = %.01f ...\\n\" %(height, mean)  \n",
    "print \"The FWHM of the Gaussian (fit) is %.01f ...\\n\" %(stDev * 2.35)  \n",
    "      \n",
    "\n",
    "# Plot the Histogram.\n",
    "plt.figure( figsize=(5.0, 3.0))\n",
    "plt.step(histo[1][:-1], histo[0][:], label = \"Histogram\")\n",
    "plt.step(histo[1][:-1], fit, label = \"Fit\")\n",
    "plt.xlabel(\"Pixel grayscale intensity\")\n",
    "plt.ylabel(\"Number of pixels\")    \n",
    "plt.legend()\n",
    "plt.show()"
   ]
  },
  {
   "cell_type": "markdown",
   "metadata": {},
   "source": [
    "We can see from this example that we have successfully extracted and fitted data in order to quantitatively assess the image that was acquired.  This example is trivial and the real power of this form of analysis is demonstrated when you have compicated or convovlved distributions that you have to disentangle."
   ]
  }
 ],
 "metadata": {
  "kernelspec": {
   "display_name": "Python 2",
   "language": "python",
   "name": "python2"
  },
  "language_info": {
   "codemirror_mode": {
    "name": "ipython",
    "version": 2
   },
   "file_extension": ".py",
   "mimetype": "text/x-python",
   "name": "python",
   "nbconvert_exporter": "python",
   "pygments_lexer": "ipython2",
   "version": "2.7.10"
  }
 },
 "nbformat": 4,
 "nbformat_minor": 0
}
